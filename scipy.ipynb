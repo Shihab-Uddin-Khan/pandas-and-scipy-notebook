{
 "cells": [
  {
   "cell_type": "code",
   "execution_count": 6,
   "id": "0d7f42e4-7990-4a9f-b597-9d35d5df40a1",
   "metadata": {},
   "outputs": [],
   "source": [
    "# is a scintific computation library that uses numpy underneath .\n",
    "#SciPy has optimized and added functions that are frequently used in NumPy and Data Science.\n"
   ]
  },
  {
   "cell_type": "code",
   "execution_count": 7,
   "id": "1935d2fd-a674-4a40-b3cb-edb92e03af63",
   "metadata": {},
   "outputs": [
    {
     "name": "stdout",
     "output_type": "stream",
     "text": [
      "Requirement already satisfied: scipy in d:\\anaconda\\lib\\site-packages (1.13.1)\n",
      "Requirement already satisfied: numpy<2.3,>=1.22.4 in d:\\anaconda\\lib\\site-packages (from scipy) (1.26.4)\n",
      "Note: you may need to restart the kernel to use updated packages.\n"
     ]
    }
   ],
   "source": [
    "pip install scipy\n"
   ]
  },
  {
   "cell_type": "code",
   "execution_count": 20,
   "id": "74370006-4536-4f85-ad5a-7b2ed6696be1",
   "metadata": {},
   "outputs": [
    {
     "name": "stdout",
     "output_type": "stream",
     "text": [
      "0.001\n",
      "3.141592653589793\n",
      "1e+24\n",
      "1e+21\n",
      "1e+18\n",
      "1000000000000000.0\n",
      "1000000000000.0\n",
      "1000000000.0\n",
      "1000000.0\n",
      "1000.0\n",
      "100.0\n",
      "10.0\n",
      "0.1\n",
      "0.01\n",
      "0.001\n",
      "1e-06\n",
      "1e-09\n",
      "1e-12\n",
      "1e-15\n",
      "1e-18\n",
      "1e-21\n"
     ]
    }
   ],
   "source": [
    "from scipy import constants\n",
    "print (constants.liter)\n",
    "print(constants.pi)\n",
    "print(constants.yotta)    #1e+24\n",
    "print(constants.zetta)    #1e+21\n",
    "print(constants.exa)      #1e+18\n",
    "print(constants.peta)     #1000000000000000.0\n",
    "print(constants.tera)     #1000000000000.0\n",
    "print(constants.giga)     #1000000000.0\n",
    "print(constants.mega)     #1000000.0\n",
    "print(constants.kilo)     #1000.0\n",
    "print(constants.hecto)    #100.0\n",
    "print(constants.deka)     #10.0\n",
    "print(constants.deci)     #0.1\n",
    "print(constants.centi)    #0.01\n",
    "print(constants.milli)    #0.001\n",
    "print(constants.micro)    #1e-06\n",
    "print(constants.nano)     #1e-09\n",
    "print(constants.pico)     #1e-12\n",
    "print(constants.femto)    #1e-15\n",
    "print(constants.atto)     #1e-18\n",
    "print(constants.zepto) "
   ]
  },
  {
   "cell_type": "code",
   "execution_count": 18,
   "id": "1112f8a0-ce36-4d29-a0f3-8b609cb843f5",
   "metadata": {},
   "outputs": [
    {
     "name": "stdout",
     "output_type": "stream",
     "text": [
      "1.13.1\n"
     ]
    }
   ],
   "source": [
    "import scipy\n",
    "print(scipy.__version__)"
   ]
  },
  {
   "cell_type": "markdown",
   "id": "0f2272e3-3d4e-40da-ac38-b20831649ad5",
   "metadata": {},
   "source": [
    "#optimizers in scipy\n",
    "#NumPy is capable of finding roots for polynomials and linear equations, but it can not find roots for non linear equations,\n",
    "x + cos(x)\n",
    "\n",
    "For that you can use SciPy's optimize.root function.\n",
    "\n",
    "This function takes two required arguments:\n",
    "\n",
    "fun - a function representing an equation.\n",
    "\n",
    "x0 - an initial guess for the root.\n",
    "\n",
    "The function returns an object with information regarding the solution\n"
   ]
  },
  {
   "cell_type": "code",
   "execution_count": 22,
   "id": "8a1a899c-20ed-40ef-adf5-7987cb41af5e",
   "metadata": {},
   "outputs": [
    {
     "name": "stdout",
     "output_type": "stream",
     "text": [
      "[-0.73908513]\n"
     ]
    },
    {
     "name": "stderr",
     "output_type": "stream",
     "text": [
      "C:\\Users\\Administrator\\AppData\\Local\\Temp\\ipykernel_27772\\1464766098.py:5: DeprecationWarning: Conversion of an array with ndim > 0 to a scalar is deprecated, and will error in future. Ensure you extract a single element from your array before performing this operation. (Deprecated NumPy 1.25.)\n",
      "  return x + cos(x)\n"
     ]
    }
   ],
   "source": [
    "from scipy.optimize import root\n",
    "from math import cos\n",
    "\n",
    "def eqn(x):\n",
    "  return x + cos(x)\n",
    "\n",
    "myroot = root(eqn, 0)\n",
    "\n",
    "print(myroot.x)\n",
    "\n",
    "# there is a a inisial value of 0 ...... "
   ]
  },
  {
   "cell_type": "markdown",
   "id": "5b676da7-6804-431b-a45a-2e40be15c99b",
   "metadata": {},
   "source": [
    "A function, in this context, represents a curve, curves have high points and low points.\n",
    "\n",
    "High points are called maxima.\n",
    "\n",
    "Low points are called minima.\n",
    "\n",
    "The highest point in the whole curve is called global maxima, whereas the rest of them are called local maxima.\n",
    "\n",
    "The lowest point in whole curve is called global minima, whereas the rest of them are called local minima."
   ]
  },
  {
   "cell_type": "code",
   "execution_count": 25,
   "id": "824409a3-2e86-4817-a173-89e4231e1f5e",
   "metadata": {},
   "outputs": [
    {
     "name": "stdout",
     "output_type": "stream",
     "text": [
      "  message: Optimization terminated successfully.\n",
      "  success: True\n",
      "   status: 0\n",
      "      fun: 1.75\n",
      "        x: [-5.000e-01]\n",
      "      nit: 2\n",
      "      jac: [ 0.000e+00]\n",
      " hess_inv: [[ 5.000e-01]]\n",
      "     nfev: 8\n",
      "     njev: 4\n"
     ]
    }
   ],
   "source": [
    "from scipy.optimize import minimize\n",
    "\n",
    "def eqn(x):\n",
    "  return x**2 + x + 2\n",
    "\n",
    "mymin = minimize(eqn, 0, method='BFGS')\n",
    "\n",
    "print(mymin)"
   ]
  },
  {
   "cell_type": "markdown",
   "id": "87c674f7-6b35-46fe-8a34-4053ca82bf99",
   "metadata": {},
   "source": [
    "spares data are the data that has the mostly unused elements( elements that don;t carry any information ) \n",
    "it can be an array like this one [ 0,0,0,0,,0,2,0] \n",
    "\n",
    "scipy has a module scipy.sparse that provides functions to deal with the sparse data . \n",
    "1.CSC - Compressed Sparse Column. For efficient arithmetic, fast column slicing.\n",
    "2.CSR - Compressed Sparse Row. For fast row slicing, faster matrix vector products\n",
    "\n"
   ]
  },
  {
   "cell_type": "code",
   "execution_count": 28,
   "id": "96379f6e-1062-40bb-8543-810dd7f57aa4",
   "metadata": {},
   "outputs": [
    {
     "name": "stdout",
     "output_type": "stream",
     "text": [
      "  (0, 3)\t3\n",
      "  (0, 4)\t4\n",
      "  (0, 6)\t1\n",
      "  (0, 8)\t7\n"
     ]
    }
   ],
   "source": [
    "import numpy as np \n",
    "from scipy.sparse import csr_matrix\n",
    "arr= np.array([0,0,0,3,4,0,1,0,7])\n",
    "\n",
    "print(csr_matrix(arr))\n",
    "# filter out all the unused elements from the data set . very useful for traing the  ML models"
   ]
  },
  {
   "cell_type": "code",
   "execution_count": 30,
   "id": "01a4e6af-c157-4ce1-a297-b532e551a251",
   "metadata": {},
   "outputs": [
    {
     "name": "stdout",
     "output_type": "stream",
     "text": [
      "[3 4 1 7]\n"
     ]
    }
   ],
   "source": [
    "#Viewing stored data (not the zero items) with the data property:\n",
    "import numpy as np \n",
    "from scipy.sparse import csr_matrix\n",
    "\n",
    "arr= np.array([0,0,0,3,4,0,1,0,7])\n",
    "\n",
    "print(csr_matrix(arr).data)"
   ]
  },
  {
   "cell_type": "code",
   "execution_count": 32,
   "id": "e91b41c9-2fb3-4de6-a969-1cb925145b8f",
   "metadata": {},
   "outputs": [
    {
     "name": "stdout",
     "output_type": "stream",
     "text": [
      "3\n"
     ]
    }
   ],
   "source": [
    "#Counting nonzeros with the count_nonzero() method:\n",
    "import numpy as np\n",
    "from scipy.sparse import csr_matrix\n",
    "\n",
    "arr = np.array([[0, 0, 0], [0, 0, 1], [1, 0, 2]])\n",
    "\n",
    "print(csr_matrix(arr).count_nonzero())\n"
   ]
  },
  {
   "cell_type": "code",
   "execution_count": 36,
   "id": "8f819349-daa5-41d6-a3c3-02fa8bc1b9f1",
   "metadata": {},
   "outputs": [
    {
     "name": "stdout",
     "output_type": "stream",
     "text": [
      "  (1, 2)\t1\n",
      "  (2, 0)\t1\n",
      "  (2, 2)\t2\n"
     ]
    }
   ],
   "source": [
    "# removing zero entites from the matrix\n",
    "import numpy as np\n",
    "from scipy.sparse import csr_matrix\n",
    "\n",
    "arr = np.array([[0, 0, 0], [0, 0, 1], [1, 0, 2]])\n",
    "\n",
    "mat = csr_matrix(arr)\n",
    "mat.eliminate_zeros()\n",
    "print(mat)"
   ]
  },
  {
   "cell_type": "markdown",
   "id": "7040a8c4-8b72-4066-b5e3-35d1b561ca88",
   "metadata": {},
   "source": [
    "Spatial data refers to data that is represented in a geometric space.\n",
    "\n",
    "E.g. points on a coordinate system.\n",
    "\n",
    "We deal with spatial data problems on many tasks.\n",
    "\n",
    "E.g. finding if a point is inside a boundary or not.\n",
    "\n",
    "SciPy provides us with the module scipy.spatial, which has functions for working with spatial data."
   ]
  },
  {
   "cell_type": "code",
   "execution_count": null,
   "id": "4965c6a6-5afd-467e-912e-7fe077670bc9",
   "metadata": {},
   "outputs": [],
   "source": []
  }
 ],
 "metadata": {
  "kernelspec": {
   "display_name": "Python 3 (ipykernel)",
   "language": "python",
   "name": "python3"
  },
  "language_info": {
   "codemirror_mode": {
    "name": "ipython",
    "version": 3
   },
   "file_extension": ".py",
   "mimetype": "text/x-python",
   "name": "python",
   "nbconvert_exporter": "python",
   "pygments_lexer": "ipython3",
   "version": "3.12.7"
  }
 },
 "nbformat": 4,
 "nbformat_minor": 5
}
